{
 "cells": [
  {
   "cell_type": "code",
   "execution_count": 1,
   "metadata": {},
   "outputs": [
    {
     "name": "stdout",
     "output_type": "stream",
     "text": [
      "JDBC Driver: com.mysql.cj.jdbc.Driver\n",
      "JDBC URL: jdbc:mysql://localhost:3306/sqops_dataraise?allowLoadLocalInfile=true&characterEncoding=utf8\n",
      "JDBC User: root\n",
      "JDBC JAR: C:/Users/sonia/Downloads/mysql-connector-j-9.0.0/mysql-connector-j-9.0.0/mysql-connector-j-9.0.0.jar\n"
     ]
    }
   ],
   "source": [
    "import logging\n",
    "import time\n",
    "from jobs import *\n",
    "from config import Config  # Assuming Config class is defined in config.py\n",
    "# from XML_parse import XMLParser  # Importing the XMLParser class\n",
    "from database import Database  # Assuming Database class is defined in database.py\n",
    "\n",
    "# Configure logging\n",
    "logging.basicConfig(\n",
    "    filename='Local_to_brut.log',\n",
    "    level=logging.DEBUG,  # Changed to DEBUG to capture all messages\n",
    "    format='%(asctime)s - %(levelname)s - %(message)s',\n",
    "    filemode='w'  # Ensure the file is overwritten each time for clean logs\n",
    ")\n",
    "def log_execution_time(job_name, start_time):\n",
    "    end_time = time.time()\n",
    "    execution_time = end_time - start_time\n",
    "    logging.info(f\"Execution time for {job_name}: {execution_time:.2f} seconds\")\n",
    "\n",
    "def main():\n",
    "    config_file = \"config.yaml\"\n",
    "    config = Config(config_file)\n",
    "\n",
    "    # Retrieve JDBC parameters and create a Database instance\n",
    "    jdbc_params = config.get_jdbc_parameters()\n",
    "\n",
    "    db = Database(jdbc_params)\n",
    "    db.set_jdbc_parameters(jdbc_params)\n",
    "    db.connect_JDBC()\n",
    "\n",
    "    # Get the execution date\n",
    "    execution_date_query = config.get_param('queries', 'TRANSVERSE_QUERY_LASTEXECUTIONDATE')\n",
    "    execution_date = db.get_execution_date(execution_date_query)\n",
    "    logging.info(f\"Execution Date: {execution_date}\")\n",
    "\n",
    "    # Execute LOCAL_TO_DBBRUT_QUERY\n",
    "    # local_to_dbbrut_query = config.get_param('queries', 'LOCAL_TO_DBBRUT_QUERY')\n",
    "    # logging.info(f\"Executing query: {local_to_dbbrut_query}\")\n",
    "    # local_to_dbbrut_query_results = db.execute_query(local_to_dbbrut_query)\n",
    "    # logging.debug(f\"local_to_dbbrut_query_results: {local_to_dbbrut_query_results}\")\n",
    "\n",
    "    # items_directory = config.get_param('Directories', 'items_directory')\n",
    "    # xml_parser = XMLParser()\n",
    "    # parsed_files_data = xml_parser.loop_parse_items(items_directory)\n",
    "    # # logging.debug(f\"Parsed Files Data: {parsed_files_data}\")\n",
    "\n",
    "    # Job execution without a loop\n",
    "    start_time = time.time()\n",
    "    logging.info(\"Starting AUD_405_AGG_TMAP...\")\n",
    "    AUD_405_AGG_TMAP(config, db,  execution_date)\n",
    "    log_execution_time(\"AUD_405_AGG_TMAP\", start_time)\n",
    "if __name__ == \"__main__\":\n",
    "    main()\n"
   ]
  }
 ],
 "metadata": {
  "kernelspec": {
   "display_name": "Python 3",
   "language": "python",
   "name": "python3"
  },
  "language_info": {
   "codemirror_mode": {
    "name": "ipython",
    "version": 3
   },
   "file_extension": ".py",
   "mimetype": "text/x-python",
   "name": "python",
   "nbconvert_exporter": "python",
   "pygments_lexer": "ipython3",
   "version": "3.12.3"
  }
 },
 "nbformat": 4,
 "nbformat_minor": 2
}
